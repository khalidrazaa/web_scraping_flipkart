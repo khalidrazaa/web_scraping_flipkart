{
 "cells": [
  {
   "cell_type": "markdown",
   "metadata": {},
   "source": [
    "# This notebook code will scrap multiple pages to extract data from selected pages \n",
    "# Data will be scrapped for searched keyword"
   ]
  },
  {
   "cell_type": "code",
   "execution_count": 55,
   "metadata": {},
   "outputs": [
    {
     "name": "stdout",
     "output_type": "stream",
     "text": [
      "                                        Product Name  \\\n",
      "0  HP Victus Ryzen 5 Hexa Core 7535HS - (8 GB/512...   \n",
      "1  HP Victus Ryzen 5 Hexa Core 5600H - (16 GB/512...   \n",
      "2  HP Victus Ryzen 5 Hexa Core 5600H - (8 GB/512 ...   \n",
      "3  Lenovo IdeaPad Gaming 3 Ryzen 5 Hexa Core 5600...   \n",
      "4  HP Victus Gaming Ryzen 5 Hexa Core 5600H - (16...   \n",
      "\n",
      "                                       Specification    Price  \n",
      "0  AMD Ryzen 5 Hexa Core Processor8 GB DDR5 RAMWi...  ₹62,990  \n",
      "1  AMD Ryzen 5 Hexa Core Processor16 GB DDR4 RAMW...  ₹58,990  \n",
      "2  AMD Ryzen 5 Hexa Core Processor8 GB DDR4 RAMWi...  ₹55,990  \n",
      "3  AMD Ryzen 5 Hexa Core Processor8 GB DDR4 RAM64...  ₹55,990  \n",
      "4  AMD Ryzen 5 Hexa Core Processor16 GB DDR4 RAMW...  ₹59,490  \n"
     ]
    }
   ],
   "source": [
    "from bs4 import BeautifulSoup as bs\n",
    "import requests\n",
    "import pandas as pd\n",
    "import openpyxl\n",
    "\n",
    "# these are the variable that will be extracted by scraping\n",
    "\n",
    "laptop_name = []\n",
    "price = []\n",
    "description = []\n",
    "\n",
    "# Copy paste the url after searching the keyword in browser\n",
    "# We need to run this code in loop because we have to target multiple pages linked on \"next\" navigation  \n",
    "\n",
    "for i in range(2,10):\n",
    "    url = \"https://www.flipkart.com/search?q=ryzen+5+gaming+laptop&sid=6bo%2Cb5g&as=on&as-show=on&otracker=AS_QueryStore_OrganicAutoSuggest_2_20_na_na_ps&otracker1=AS_QueryStore_OrganicAutoSuggest_2_20_na_na_ps&as-pos=2&as-type=RECENT&suggestionId=ryzen+5+gaming+laptop%7CLaptops&requestId=7a589702-f608-4791-8646-bd8335cbcd20&as-searchtext=ryzen+gaming+laptop+&page=\"+str(i)\n",
    "\n",
    "    r = requests.get(url)\n",
    "\n",
    "    # Parse the text of r variable using html.parser\n",
    "    soup = bs(r.text, \"html.parser\")\n",
    "    result_window = soup.find(\"div\", class_ =\"_1YokD2 _3Mn1Gg\")\n",
    "    \n",
    "    # Listing names, prices description and reviews\n",
    "    names = result_window.find_all(\"div\", class_ = \"_4rR01T\")\n",
    "    for i in names:\n",
    "        name = i.text\n",
    "        laptop_name.append(name)\n",
    "    #print(f\"name\",len(laptop_name))\n",
    "    \n",
    "    prices = result_window.find_all(\"div\", class_ =\"_30jeq3 _1_WHN1\")\n",
    "    for i in prices:\n",
    "        kart_price = i.text\n",
    "        price.append(kart_price)\n",
    "    #print(f\"price\",len(price))\n",
    "    \n",
    "    desc = result_window.find_all(\"ul\", class_ =\"_1xgFaf\")\n",
    "    for i in desc:\n",
    "        spec = i.text\n",
    "        description.append(spec)\n",
    "    #print(f\"Desc\",len(description))\n",
    "    \n",
    "    \n",
    "df = pd.DataFrame({\"Product Name\":laptop_name,\"Specification\":description,\"Price\":price})\n",
    "print(df.head(5))\n",
    "\n",
    "df.to_excel(\"flipkart_Gaming_laptop.xlsx\")"
   ]
  }
 ],
 "metadata": {
  "kernelspec": {
   "display_name": "Python 3",
   "language": "python",
   "name": "python3"
  },
  "language_info": {
   "codemirror_mode": {
    "name": "ipython",
    "version": 3
   },
   "file_extension": ".py",
   "mimetype": "text/x-python",
   "name": "python",
   "nbconvert_exporter": "python",
   "pygments_lexer": "ipython3",
   "version": "3.11.4"
  },
  "orig_nbformat": 4
 },
 "nbformat": 4,
 "nbformat_minor": 2
}
